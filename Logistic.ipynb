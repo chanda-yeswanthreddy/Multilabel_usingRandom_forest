{
 "cells": [
  {
   "cell_type": "code",
   "execution_count": 1,
   "id": "6f676ca4",
   "metadata": {},
   "outputs": [],
   "source": [
    "import pandas as pd\n",
    "import numpy as np\n",
    "features=pd.read_csv('training_set_features.csv')\n",
    "labels=pd.read_csv('training_set_labels.csv')"
   ]
  },
  {
   "cell_type": "code",
   "execution_count": 2,
   "id": "0afff645",
   "metadata": {},
   "outputs": [],
   "source": [
    "df = pd.merge(features, labels, on='respondent_id')"
   ]
  },
  {
   "cell_type": "code",
   "execution_count": 3,
   "id": "1b534c7e",
   "metadata": {},
   "outputs": [],
   "source": [
    "for col in df.columns:\n",
    "    if col != 'respondent_id':\n",
    "        df[col].fillna(df[col].mode()[0], inplace=True)"
   ]
  },
  {
   "cell_type": "code",
   "execution_count": 4,
   "id": "506fba26",
   "metadata": {},
   "outputs": [],
   "source": [
    "categorical_features = [\n",
    "    'age_group', 'education', 'race', 'sex', 'income_poverty', \n",
    "    'marital_status', 'rent_or_own', 'employment_status', \n",
    "    'hhs_geo_region', 'census_msa', 'employment_industry', 'employment_occupation'\n",
    "]"
   ]
  },
  {
   "cell_type": "code",
   "execution_count": 5,
   "id": "5845deba",
   "metadata": {},
   "outputs": [],
   "source": [
    "df_enc=pd.get_dummies(df,columns=categorical_features,drop_first=True)"
   ]
  },
  {
   "cell_type": "code",
   "execution_count": 6,
   "id": "dd24dee0",
   "metadata": {},
   "outputs": [],
   "source": [
    "from sklearn.model_selection import train_test_split\n",
    "X= df_enc.drop(['xyz_vaccine', 'seasonal_vaccine'], axis=1)  \n",
    "y = df_enc[['xyz_vaccine', 'seasonal_vaccine']] \n",
    "X_train, X_test, y_train, y_test = train_test_split(X, y, \n",
    "                                                    test_size=0.2, random_state=42)"
   ]
  },
  {
   "cell_type": "code",
   "execution_count": 7,
   "id": "552c990c",
   "metadata": {},
   "outputs": [],
   "source": [
    "from sklearn.linear_model import LogisticRegression\n",
    "model_xyz = LogisticRegression(max_iter=1000)\n",
    "model_seasonal = LogisticRegression(max_iter=1000)\n",
    "\n",
    "model_xyz.fit(X_train, y_train['xyz_vaccine'])\n",
    "model_seasonal.fit(X_train, y_train['seasonal_vaccine'])\n",
    "y_pred_xyz = model_xyz.predict_proba(X_test)[:, 1]  # Predict probabilities of class 1 (vaccinated)\n",
    "y_pred_seasonal = model_seasonal.predict_proba(X_test)[:, 1]  # Predict probabilities of class 1 (vaccinated)\n"
   ]
  },
  {
   "cell_type": "code",
   "execution_count": 8,
   "id": "35fb0a12",
   "metadata": {
    "scrolled": true
   },
   "outputs": [],
   "source": [
    "from sklearn.metrics import roc_auc_score\n",
    "roc_auc_xyz = roc_auc_score(y_test['xyz_vaccine'], y_pred_xyz)\n",
    "roc_auc_seasonal = roc_auc_score(y_test['seasonal_vaccine'], y_pred_seasonal)"
   ]
  },
  {
   "cell_type": "code",
   "execution_count": 9,
   "id": "dd2ef0cd",
   "metadata": {},
   "outputs": [
    {
     "name": "stdout",
     "output_type": "stream",
     "text": [
      "ROC AUC (xyz_vaccine): 0.7915\n",
      "ROC AUC (seasonal_vaccine): 0.7753\n"
     ]
    }
   ],
   "source": [
    "print(f\"ROC AUC (xyz_vaccine): {roc_auc_xyz:.4f}\")\n",
    "print(f\"ROC AUC (seasonal_vaccine): {roc_auc_seasonal:.4f}\")"
   ]
  },
  {
   "cell_type": "code",
   "execution_count": 10,
   "id": "c60eec08",
   "metadata": {},
   "outputs": [],
   "source": [
    "test_features=pd.read_csv('test_set_features.csv')\n",
    "test_features.head()\n",
    "for col in test_features.columns:\n",
    "    if col != 'respondent_id':\n",
    "        test_features[col].fillna(test_features[col].mode()[0], inplace=True)"
   ]
  },
  {
   "cell_type": "code",
   "execution_count": 11,
   "id": "c5199376",
   "metadata": {},
   "outputs": [
    {
     "data": {
      "text/plain": [
       "(26708, 94)"
      ]
     },
     "execution_count": 11,
     "metadata": {},
     "output_type": "execute_result"
    }
   ],
   "source": [
    "test_features_enc=pd.get_dummies(test_features,columns=categorical_features,drop_first=True)\n",
    "test_features_enc.shape"
   ]
  },
  {
   "cell_type": "code",
   "execution_count": 12,
   "id": "16dcb3f4",
   "metadata": {},
   "outputs": [],
   "source": [
    "y_pred_xyz = model_xyz.predict_proba(test_features_enc)[:, 1]  # Predict probabilities of class 1 (vaccinated) for xyz_vaccine\n",
    "y_pred_seasonal = model_seasonal.predict_proba(test_features_enc)[:, 1]  # Predict probabilities of class 1 (vaccinated) for seasonal_vaccine\n",
    "\n",
    "# Create a DataFrame to store the predictions\n",
    "predictions_df = pd.DataFrame({\n",
    "    'respondent_id': test_features_enc['respondent_id'],  # Assuming respondent_id is a column in your test set\n",
    "    'xyz_vaccine_prob': y_pred_xyz,\n",
    "    'seasonal_vaccine_prob': y_pred_seasonal\n",
    "})\n"
   ]
  },
  {
   "cell_type": "code",
   "execution_count": 15,
   "id": "7be93f35",
   "metadata": {},
   "outputs": [
    {
     "data": {
      "text/html": [
       "<div>\n",
       "<style scoped>\n",
       "    .dataframe tbody tr th:only-of-type {\n",
       "        vertical-align: middle;\n",
       "    }\n",
       "\n",
       "    .dataframe tbody tr th {\n",
       "        vertical-align: top;\n",
       "    }\n",
       "\n",
       "    .dataframe thead th {\n",
       "        text-align: right;\n",
       "    }\n",
       "</style>\n",
       "<table border=\"1\" class=\"dataframe\">\n",
       "  <thead>\n",
       "    <tr style=\"text-align: right;\">\n",
       "      <th></th>\n",
       "      <th>respondent_id</th>\n",
       "      <th>xyz_vaccine_prob</th>\n",
       "      <th>seasonal_vaccine_prob</th>\n",
       "    </tr>\n",
       "  </thead>\n",
       "  <tbody>\n",
       "    <tr>\n",
       "      <th>0</th>\n",
       "      <td>26707</td>\n",
       "      <td>0.045612</td>\n",
       "      <td>0.267245</td>\n",
       "    </tr>\n",
       "    <tr>\n",
       "      <th>1</th>\n",
       "      <td>26708</td>\n",
       "      <td>0.051111</td>\n",
       "      <td>0.184491</td>\n",
       "    </tr>\n",
       "    <tr>\n",
       "      <th>2</th>\n",
       "      <td>26709</td>\n",
       "      <td>0.247184</td>\n",
       "      <td>0.461784</td>\n",
       "    </tr>\n",
       "    <tr>\n",
       "      <th>3</th>\n",
       "      <td>26710</td>\n",
       "      <td>0.700302</td>\n",
       "      <td>0.778481</td>\n",
       "    </tr>\n",
       "    <tr>\n",
       "      <th>4</th>\n",
       "      <td>26711</td>\n",
       "      <td>0.163970</td>\n",
       "      <td>0.430234</td>\n",
       "    </tr>\n",
       "  </tbody>\n",
       "</table>\n",
       "</div>"
      ],
      "text/plain": [
       "   respondent_id  xyz_vaccine_prob  seasonal_vaccine_prob\n",
       "0          26707          0.045612               0.267245\n",
       "1          26708          0.051111               0.184491\n",
       "2          26709          0.247184               0.461784\n",
       "3          26710          0.700302               0.778481\n",
       "4          26711          0.163970               0.430234"
      ]
     },
     "execution_count": 15,
     "metadata": {},
     "output_type": "execute_result"
    }
   ],
   "source": [
    "predictions_df.head()"
   ]
  },
  {
   "cell_type": "code",
   "execution_count": null,
   "id": "78de936f",
   "metadata": {},
   "outputs": [],
   "source": []
  },
  {
   "cell_type": "code",
   "execution_count": null,
   "id": "8cedade3",
   "metadata": {},
   "outputs": [],
   "source": []
  },
  {
   "cell_type": "code",
   "execution_count": null,
   "id": "0344e07b",
   "metadata": {},
   "outputs": [],
   "source": []
  },
  {
   "cell_type": "code",
   "execution_count": null,
   "id": "73e3b566",
   "metadata": {},
   "outputs": [],
   "source": []
  },
  {
   "cell_type": "code",
   "execution_count": null,
   "id": "419056a7",
   "metadata": {},
   "outputs": [],
   "source": []
  },
  {
   "cell_type": "code",
   "execution_count": null,
   "id": "a1929417",
   "metadata": {},
   "outputs": [],
   "source": []
  },
  {
   "cell_type": "code",
   "execution_count": null,
   "id": "925c5711",
   "metadata": {},
   "outputs": [],
   "source": []
  },
  {
   "cell_type": "code",
   "execution_count": null,
   "id": "212c33c1",
   "metadata": {},
   "outputs": [],
   "source": []
  },
  {
   "cell_type": "code",
   "execution_count": null,
   "id": "290e93ac",
   "metadata": {},
   "outputs": [],
   "source": []
  },
  {
   "cell_type": "code",
   "execution_count": null,
   "id": "aa0a2323",
   "metadata": {},
   "outputs": [],
   "source": []
  },
  {
   "cell_type": "code",
   "execution_count": null,
   "id": "0b26bb81",
   "metadata": {},
   "outputs": [],
   "source": []
  },
  {
   "cell_type": "code",
   "execution_count": null,
   "id": "9e31f464",
   "metadata": {},
   "outputs": [],
   "source": []
  },
  {
   "cell_type": "code",
   "execution_count": null,
   "id": "33e3da72",
   "metadata": {},
   "outputs": [],
   "source": []
  },
  {
   "cell_type": "code",
   "execution_count": null,
   "id": "0fcbd1b2",
   "metadata": {},
   "outputs": [],
   "source": []
  },
  {
   "cell_type": "code",
   "execution_count": null,
   "id": "4d146aab",
   "metadata": {},
   "outputs": [],
   "source": []
  },
  {
   "cell_type": "code",
   "execution_count": null,
   "id": "c0f573a4",
   "metadata": {},
   "outputs": [],
   "source": []
  },
  {
   "cell_type": "code",
   "execution_count": null,
   "id": "1f1cb5c1",
   "metadata": {},
   "outputs": [],
   "source": []
  },
  {
   "cell_type": "code",
   "execution_count": null,
   "id": "7a690df8",
   "metadata": {},
   "outputs": [],
   "source": []
  },
  {
   "cell_type": "code",
   "execution_count": null,
   "id": "3aa7917a",
   "metadata": {},
   "outputs": [],
   "source": []
  },
  {
   "cell_type": "code",
   "execution_count": null,
   "id": "3f036edc",
   "metadata": {},
   "outputs": [],
   "source": []
  },
  {
   "cell_type": "code",
   "execution_count": null,
   "id": "8b2f8e7d",
   "metadata": {},
   "outputs": [],
   "source": []
  },
  {
   "cell_type": "code",
   "execution_count": null,
   "id": "8313cbcf",
   "metadata": {},
   "outputs": [],
   "source": []
  },
  {
   "cell_type": "code",
   "execution_count": null,
   "id": "0a914d29",
   "metadata": {},
   "outputs": [],
   "source": []
  },
  {
   "cell_type": "code",
   "execution_count": null,
   "id": "0b568389",
   "metadata": {},
   "outputs": [],
   "source": []
  },
  {
   "cell_type": "code",
   "execution_count": null,
   "id": "bbd133fc",
   "metadata": {},
   "outputs": [],
   "source": []
  },
  {
   "cell_type": "code",
   "execution_count": null,
   "id": "b1ffa8d7",
   "metadata": {},
   "outputs": [],
   "source": []
  },
  {
   "cell_type": "code",
   "execution_count": null,
   "id": "52ad38f2",
   "metadata": {},
   "outputs": [],
   "source": []
  },
  {
   "cell_type": "code",
   "execution_count": null,
   "id": "5ccd1321",
   "metadata": {},
   "outputs": [],
   "source": []
  },
  {
   "cell_type": "code",
   "execution_count": null,
   "id": "d9c97293",
   "metadata": {},
   "outputs": [],
   "source": []
  },
  {
   "cell_type": "code",
   "execution_count": null,
   "id": "18ae92a5",
   "metadata": {},
   "outputs": [],
   "source": []
  },
  {
   "cell_type": "code",
   "execution_count": null,
   "id": "0376a426",
   "metadata": {},
   "outputs": [],
   "source": []
  }
 ],
 "metadata": {
  "kernelspec": {
   "display_name": "Python 3 (ipykernel)",
   "language": "python",
   "name": "python3"
  },
  "language_info": {
   "codemirror_mode": {
    "name": "ipython",
    "version": 3
   },
   "file_extension": ".py",
   "mimetype": "text/x-python",
   "name": "python",
   "nbconvert_exporter": "python",
   "pygments_lexer": "ipython3",
   "version": "3.11.5"
  }
 },
 "nbformat": 4,
 "nbformat_minor": 5
}
